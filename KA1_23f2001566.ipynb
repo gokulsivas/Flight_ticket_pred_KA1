{
  "metadata": {
    "kernelspec": {
      "language": "python",
      "display_name": "Python 3",
      "name": "python3"
    },
    "language_info": {
      "name": "python",
      "version": "3.11.11",
      "mimetype": "text/x-python",
      "codemirror_mode": {
        "name": "ipython",
        "version": 3
      },
      "pygments_lexer": "ipython3",
      "nbconvert_exporter": "python",
      "file_extension": ".py"
    },
    "kaggle": {
      "accelerator": "gpu",
      "dataSources": [
        {
          "sourceId": 105665,
          "databundleVersionId": 12770423,
          "sourceType": "competition"
        }
      ],
      "dockerImageVersionId": 31040,
      "isInternetEnabled": false,
      "language": "python",
      "sourceType": "notebook",
      "isGpuEnabled": true
    },
    "colab": {
      "name": "KA1-23f2001566",
      "provenance": []
    }
  },
  "nbformat_minor": 0,
  "nbformat": 4,
  "cells": [
    {
      "source": [
        "# IMPORTANT: SOME KAGGLE DATA SOURCES ARE PRIVATE\n",
        "# RUN THIS CELL IN ORDER TO IMPORT YOUR KAGGLE DATA SOURCES.\n",
        "import kagglehub\n",
        "kagglehub.login()\n"
      ],
      "metadata": {
        "id": "j9vW4Qb-QDW7"
      },
      "cell_type": "code",
      "outputs": [],
      "execution_count": null
    },
    {
      "source": [
        "# IMPORTANT: RUN THIS CELL IN ORDER TO IMPORT YOUR KAGGLE DATA SOURCES,\n",
        "# THEN FEEL FREE TO DELETE THIS CELL.\n",
        "# NOTE: THIS NOTEBOOK ENVIRONMENT DIFFERS FROM KAGGLE'S PYTHON\n",
        "# ENVIRONMENT SO THERE MAY BE MISSING LIBRARIES USED BY YOUR\n",
        "# NOTEBOOK.\n",
        "\n",
        "mlp_term_2_2025_kaggle_assignment_1_path = kagglehub.competition_download('mlp-term-2-2025-kaggle-assignment-1')\n",
        "\n",
        "print('Data source import complete.')\n"
      ],
      "metadata": {
        "id": "QYuUB3HoQDW_"
      },
      "cell_type": "code",
      "outputs": [],
      "execution_count": null
    },
    {
      "cell_type": "code",
      "source": [
        "# This Python 3 environment comes with many helpful analytics libraries installed\n",
        "# It is defined by the kaggle/python Docker image: https://github.com/kaggle/docker-python\n",
        "# For example, here's several helpful packages to load\n",
        "\n",
        "import numpy as np # linear algebra\n",
        "import pandas as pd # data processing, CSV file I/O (e.g. pd.read_csv)\n",
        "\n",
        "# Input data files are available in the read-only \"../input/\" directory\n",
        "# For example, running this (by clicking run or pressing Shift+Enter) will list all files under the input directory\n",
        "\n",
        "import os\n",
        "for dirname, _, filenames in os.walk('/kaggle/input'):\n",
        "    for filename in filenames:\n",
        "        print(os.path.join(dirname, filename))\n",
        "\n",
        "# You can write up to 20GB to the current directory (/kaggle/working/) that gets preserved as output when you create a version using \"Save & Run All\"\n",
        "# You can also write temporary files to /kaggle/temp/, but they won't be saved outside of the current session"
      ],
      "metadata": {
        "_uuid": "82b2c036-7d01-4933-b39a-2112c04c708e",
        "_cell_guid": "8bdbdcdd-d48b-4fec-8ef5-49030c5b25a2",
        "trusted": true,
        "execution": {
          "iopub.status.busy": "2025-06-30T06:24:14.962853Z",
          "iopub.execute_input": "2025-06-30T06:24:14.963183Z",
          "iopub.status.idle": "2025-06-30T06:24:15.233897Z",
          "shell.execute_reply.started": "2025-06-30T06:24:14.963156Z",
          "shell.execute_reply": "2025-06-30T06:24:15.233147Z"
        },
        "jupyter": {
          "outputs_hidden": false
        },
        "id": "EGVCRiJvQDXA"
      },
      "outputs": [],
      "execution_count": null
    },
    {
      "cell_type": "markdown",
      "source": [
        "# Importing Modules"
      ],
      "metadata": {
        "_uuid": "661ba817-5315-47c3-bccb-26f545afcb6f",
        "_cell_guid": "485c94bf-0a49-464b-a023-ba75e96084a8",
        "trusted": true,
        "collapsed": false,
        "jupyter": {
          "outputs_hidden": false
        },
        "id": "kQQargwWQDXB"
      }
    },
    {
      "cell_type": "code",
      "source": [
        "import pandas as pd\n",
        "import numpy as np\n",
        "import matplotlib.pyplot as plt\n",
        "import seaborn as sns\n",
        "\n",
        "from sklearn.impute import KNNImputer\n",
        "from sklearn.impute import SimpleImputer\n",
        "from sklearn.preprocessing import StandardScaler, OneHotEncoder\n",
        "from sklearn.pipeline import Pipeline\n",
        "from sklearn.compose import ColumnTransformer\n",
        "from sklearn.model_selection import train_test_split, GridSearchCV, RandomizedSearchCV\n",
        "\n",
        "from sklearn.linear_model import SGDRegressor, Lasso, Ridge, ElasticNet\n",
        "from sklearn.tree import DecisionTreeRegressor\n",
        "from sklearn.ensemble import RandomForestRegressor, GradientBoostingRegressor\n",
        "from sklearn.svm import SVR\n",
        "from sklearn.neighbors import KNeighborsRegressor\n",
        "from xgboost import XGBRegressor\n",
        "from sklearn.metrics import r2_score, mean_absolute_error, mean_squared_error"
      ],
      "metadata": {
        "_uuid": "f32be1d1-232e-4a67-87a1-038e07f925a4",
        "_cell_guid": "d8aa64b0-8fd1-48ad-b849-2c1e534293a8",
        "trusted": true,
        "execution": {
          "iopub.status.busy": "2025-06-30T06:24:15.235204Z",
          "iopub.execute_input": "2025-06-30T06:24:15.235576Z",
          "iopub.status.idle": "2025-06-30T06:24:16.856431Z",
          "shell.execute_reply.started": "2025-06-30T06:24:15.235549Z",
          "shell.execute_reply": "2025-06-30T06:24:16.855693Z"
        },
        "jupyter": {
          "outputs_hidden": false
        },
        "id": "Opra5TL_QDXC"
      },
      "outputs": [],
      "execution_count": null
    },
    {
      "cell_type": "code",
      "source": [
        "import warnings\n",
        "warnings.filterwarnings(\"ignore\")"
      ],
      "metadata": {
        "_uuid": "5ee2c87f-cd49-416d-8f57-71d676cf7964",
        "_cell_guid": "395535e7-ef46-4ebe-bccf-d80eec634728",
        "trusted": true,
        "execution": {
          "iopub.status.busy": "2025-06-30T06:24:16.857217Z",
          "iopub.execute_input": "2025-06-30T06:24:16.857546Z",
          "iopub.status.idle": "2025-06-30T06:24:16.861222Z",
          "shell.execute_reply.started": "2025-06-30T06:24:16.857521Z",
          "shell.execute_reply": "2025-06-30T06:24:16.860611Z"
        },
        "jupyter": {
          "outputs_hidden": false
        },
        "id": "gwQHjKlcQDXC"
      },
      "outputs": [],
      "execution_count": null
    },
    {
      "cell_type": "markdown",
      "source": [
        "# Loading Train and Test datasets"
      ],
      "metadata": {
        "_uuid": "284d7a96-d7ce-45e3-ba65-ef3e4a131126",
        "_cell_guid": "a4e4ee08-9f8d-409d-953f-7c57bd10709c",
        "trusted": true,
        "collapsed": false,
        "jupyter": {
          "outputs_hidden": false
        },
        "id": "NUpn1IwzQDXD"
      }
    },
    {
      "cell_type": "code",
      "source": [
        "try:\n",
        "    train_df = pd.read_csv(\"/kaggle/input/mlp-term-2-2025-kaggle-assignment-1/train.csv\")\n",
        "    test_df = pd.read_csv(\"/kaggle/input/mlp-term-2-2025-kaggle-assignment-1/test.csv\")\n",
        "    submission_df = pd.read_csv(\"/kaggle/input/mlp-term-2-2025-kaggle-assignment-1/sample_submission.csv\")\n",
        "except FileNotFoundError:\n",
        "    print(\"Recheck your dataset paths\")\n",
        "\n",
        "#Making copies\n",
        "train_df_processed = train_df.copy()\n",
        "test_df_processed = test_df.copy()"
      ],
      "metadata": {
        "_uuid": "76c36069-c740-4e9d-bbfa-3aff3cd88bcf",
        "_cell_guid": "c9ee0b25-dabe-453a-9a88-1e81726c88b1",
        "trusted": true,
        "execution": {
          "iopub.status.busy": "2025-06-30T06:24:16.862802Z",
          "iopub.execute_input": "2025-06-30T06:24:16.863216Z",
          "iopub.status.idle": "2025-06-30T06:24:17.008335Z",
          "shell.execute_reply.started": "2025-06-30T06:24:16.863192Z",
          "shell.execute_reply": "2025-06-30T06:24:17.007789Z"
        },
        "jupyter": {
          "outputs_hidden": false
        },
        "id": "M5ogxf5hQDXE"
      },
      "outputs": [],
      "execution_count": null
    },
    {
      "cell_type": "code",
      "source": [
        "print(train_df_processed.columns)\n",
        "print(test_df_processed.columns)"
      ],
      "metadata": {
        "_uuid": "3d1f6972-a2eb-4e54-92c4-e4dcefdb3d80",
        "_cell_guid": "cd128065-529a-4869-ae01-d42f272e5810",
        "trusted": true,
        "execution": {
          "iopub.status.busy": "2025-06-30T06:24:17.009051Z",
          "iopub.execute_input": "2025-06-30T06:24:17.009251Z",
          "iopub.status.idle": "2025-06-30T06:24:17.015222Z",
          "shell.execute_reply.started": "2025-06-30T06:24:17.009234Z",
          "shell.execute_reply": "2025-06-30T06:24:17.014564Z"
        },
        "jupyter": {
          "outputs_hidden": false
        },
        "id": "xtrf4bYxQDXE"
      },
      "outputs": [],
      "execution_count": null
    },
    {
      "cell_type": "markdown",
      "source": [
        "# Listing Datatype of Each Column in the train dataset"
      ],
      "metadata": {
        "_uuid": "410de08f-6c3a-4d0e-8555-62a2b0085e09",
        "_cell_guid": "d54db5e0-07aa-4eac-b45c-360b4929c734",
        "trusted": true,
        "collapsed": false,
        "jupyter": {
          "outputs_hidden": false
        },
        "id": "cBbjNoouQDXE"
      }
    },
    {
      "cell_type": "code",
      "source": [
        "train_df_processed.info()"
      ],
      "metadata": {
        "_uuid": "dbe3b9c5-5c6a-4c9a-a9cf-a445364ca415",
        "_cell_guid": "561854f4-656f-4ef1-94a3-03c7f2492799",
        "trusted": true,
        "execution": {
          "iopub.status.busy": "2025-06-30T06:24:17.015941Z",
          "iopub.execute_input": "2025-06-30T06:24:17.016625Z",
          "iopub.status.idle": "2025-06-30T06:24:17.07092Z",
          "shell.execute_reply.started": "2025-06-30T06:24:17.016601Z",
          "shell.execute_reply": "2025-06-30T06:24:17.070211Z"
        },
        "jupyter": {
          "outputs_hidden": false
        },
        "id": "Vz0rYiBUQDXF"
      },
      "outputs": [],
      "execution_count": null
    },
    {
      "cell_type": "markdown",
      "source": [
        "# Listing Datatype of Each Column in the test dataframe"
      ],
      "metadata": {
        "_uuid": "67f6085e-f841-4b26-8e47-b8f9d4044607",
        "_cell_guid": "c619f904-4432-41d9-8680-0d1123421bb4",
        "trusted": true,
        "collapsed": false,
        "jupyter": {
          "outputs_hidden": false
        },
        "id": "TuTmgudeQDXF"
      }
    },
    {
      "cell_type": "code",
      "source": [
        "test_df_processed.info()"
      ],
      "metadata": {
        "_uuid": "54dbce18-f082-4ab0-9ed3-e9b8f4bce090",
        "_cell_guid": "517a5fea-1951-41e5-82e5-b863b84091e1",
        "trusted": true,
        "execution": {
          "iopub.status.busy": "2025-06-30T06:24:17.071627Z",
          "iopub.execute_input": "2025-06-30T06:24:17.07184Z",
          "iopub.status.idle": "2025-06-30T06:24:17.083421Z",
          "shell.execute_reply.started": "2025-06-30T06:24:17.071824Z",
          "shell.execute_reply": "2025-06-30T06:24:17.082877Z"
        },
        "jupyter": {
          "outputs_hidden": false
        },
        "id": "nDqZRxIVQDXF"
      },
      "outputs": [],
      "execution_count": null
    },
    {
      "cell_type": "markdown",
      "source": [
        "# Descriptive Statistics of Numerical Columns of Train Dataframe"
      ],
      "metadata": {
        "_uuid": "a525fe25-f058-4f58-9e6d-51dc0f0b6cb5",
        "_cell_guid": "10b9484d-b399-46a4-9cc8-17547540d293",
        "trusted": true,
        "collapsed": false,
        "jupyter": {
          "outputs_hidden": false
        },
        "id": "QbLghRv8QDXF"
      }
    },
    {
      "cell_type": "code",
      "source": [
        "#Including the 'id' column\n",
        "train_df_processed.describe()"
      ],
      "metadata": {
        "_uuid": "a62f0902-9f16-4c49-9ff7-0ef472a28b93",
        "_cell_guid": "89529e7d-f9db-4bff-9a5f-f1601895069a",
        "trusted": true,
        "execution": {
          "iopub.status.busy": "2025-06-30T06:24:17.084292Z",
          "iopub.execute_input": "2025-06-30T06:24:17.084486Z",
          "iopub.status.idle": "2025-06-30T06:24:17.120998Z",
          "shell.execute_reply.started": "2025-06-30T06:24:17.084471Z",
          "shell.execute_reply": "2025-06-30T06:24:17.120059Z"
        },
        "jupyter": {
          "outputs_hidden": false
        },
        "id": "nJo7wQg6QDXG"
      },
      "outputs": [],
      "execution_count": null
    },
    {
      "cell_type": "markdown",
      "source": [
        "# Descriptive Statistics of Numerical Columns of Test Dataframe"
      ],
      "metadata": {
        "_uuid": "0c31065b-cd24-4d11-a6de-fab5a3f12650",
        "_cell_guid": "efb99bf1-3ec6-4403-bd5e-d25c0d01236b",
        "trusted": true,
        "collapsed": false,
        "jupyter": {
          "outputs_hidden": false
        },
        "id": "W4M5qTCgQDXG"
      }
    },
    {
      "cell_type": "code",
      "source": [
        "#Including the 'id' column\n",
        "test_df_processed.describe()"
      ],
      "metadata": {
        "_uuid": "8ed8bb31-4a84-4127-b75f-28d13371f49f",
        "_cell_guid": "deed21c9-fb88-47d4-b1d3-85442de4b4be",
        "trusted": true,
        "execution": {
          "iopub.status.busy": "2025-06-30T06:24:17.121905Z",
          "iopub.execute_input": "2025-06-30T06:24:17.122583Z",
          "iopub.status.idle": "2025-06-30T06:24:17.135782Z",
          "shell.execute_reply.started": "2025-06-30T06:24:17.122558Z",
          "shell.execute_reply": "2025-06-30T06:24:17.13504Z"
        },
        "jupyter": {
          "outputs_hidden": false
        },
        "id": "Do10CQkwQDXG"
      },
      "outputs": [],
      "execution_count": null
    },
    {
      "cell_type": "markdown",
      "source": [
        "# Identifying the number of missing/null values in the train dataframe"
      ],
      "metadata": {
        "_uuid": "d5156076-746a-452a-bef5-4b25438670bf",
        "_cell_guid": "108faa77-8351-4188-adca-fb35174d4e25",
        "trusted": true,
        "collapsed": false,
        "jupyter": {
          "outputs_hidden": false
        },
        "id": "sHMoJz0pQDXG"
      }
    },
    {
      "cell_type": "code",
      "source": [
        "train_df_processed.isnull().sum()"
      ],
      "metadata": {
        "_uuid": "7855e766-cce3-44c2-8d64-a3986e2012cb",
        "_cell_guid": "ce534bf7-7fe9-4b1e-9f32-d6beac0680a5",
        "trusted": true,
        "execution": {
          "iopub.status.busy": "2025-06-30T06:24:17.137926Z",
          "iopub.execute_input": "2025-06-30T06:24:17.138092Z",
          "iopub.status.idle": "2025-06-30T06:24:17.160443Z",
          "shell.execute_reply.started": "2025-06-30T06:24:17.138079Z",
          "shell.execute_reply": "2025-06-30T06:24:17.15983Z"
        },
        "jupyter": {
          "outputs_hidden": false
        },
        "id": "tlucfhobQDXG"
      },
      "outputs": [],
      "execution_count": null
    },
    {
      "cell_type": "markdown",
      "source": [
        "# Identifying the number of missing/null values in the test dataframe"
      ],
      "metadata": {
        "_uuid": "4a15bb48-097d-4305-8e47-bce7ab9de3b0",
        "_cell_guid": "f762337e-df7e-4f6e-968e-30518e345c43",
        "trusted": true,
        "collapsed": false,
        "jupyter": {
          "outputs_hidden": false
        },
        "id": "eezY4jAuQDXG"
      }
    },
    {
      "cell_type": "code",
      "source": [
        "test_df_processed.isnull().sum()"
      ],
      "metadata": {
        "_uuid": "5c57f8fa-b53a-44c4-b3b7-305c4e3b945a",
        "_cell_guid": "ba8c1c87-9431-46af-89b4-e9978ccca209",
        "trusted": true,
        "execution": {
          "iopub.status.busy": "2025-06-30T06:24:17.16109Z",
          "iopub.execute_input": "2025-06-30T06:24:17.161295Z",
          "iopub.status.idle": "2025-06-30T06:24:17.178088Z",
          "shell.execute_reply.started": "2025-06-30T06:24:17.161274Z",
          "shell.execute_reply": "2025-06-30T06:24:17.17756Z"
        },
        "jupyter": {
          "outputs_hidden": false
        },
        "id": "E6UN_zvcQDXG"
      },
      "outputs": [],
      "execution_count": null
    },
    {
      "cell_type": "code",
      "source": [
        "test_df_processed.shape"
      ],
      "metadata": {
        "trusted": true,
        "execution": {
          "iopub.status.busy": "2025-06-30T06:24:17.178625Z",
          "iopub.execute_input": "2025-06-30T06:24:17.178892Z",
          "iopub.status.idle": "2025-06-30T06:24:17.1937Z",
          "shell.execute_reply.started": "2025-06-30T06:24:17.178876Z",
          "shell.execute_reply": "2025-06-30T06:24:17.193166Z"
        },
        "id": "Wr4h8_BrQDXG"
      },
      "outputs": [],
      "execution_count": null
    },
    {
      "cell_type": "markdown",
      "source": [
        "# Handling Missing/null values in numerical columns"
      ],
      "metadata": {
        "_uuid": "3236970c-4a1a-4173-aa79-99a8e83e6400",
        "_cell_guid": "73a40f0b-8138-450b-b8f8-4f715ca43f23",
        "trusted": true,
        "collapsed": false,
        "jupyter": {
          "outputs_hidden": false
        },
        "id": "nK3klTF9QDXG"
      }
    },
    {
      "cell_type": "code",
      "source": [
        "num_cols = ['duration', 'days_left']\n",
        "\n",
        "broken_train = train_df_processed[num_cols].isnull().all(axis=1)\n",
        "broken_test = test_df_processed[num_cols].isnull().all(axis=1)\n",
        "\n",
        "knn_imputer = KNNImputer(n_neighbors=5)\n",
        "\n",
        "train_df_processed[num_cols] = knn_imputer.fit_transform(train_df_processed[num_cols])\n",
        "test_df_processed[num_cols] = knn_imputer.transform(test_df_processed[num_cols])\n",
        "\n",
        "print(train_df_processed[num_cols].isnull().sum())\n",
        "print(test_df_processed[num_cols].isnull().sum())"
      ],
      "metadata": {
        "_uuid": "7a4f1962-4ac3-4d30-89e4-3e18a435432f",
        "_cell_guid": "013aa0e4-e60c-430d-9429-6648861e0f13",
        "trusted": true,
        "execution": {
          "iopub.status.busy": "2025-06-30T06:24:17.194334Z",
          "iopub.execute_input": "2025-06-30T06:24:17.194487Z",
          "iopub.status.idle": "2025-06-30T06:24:37.33837Z",
          "shell.execute_reply.started": "2025-06-30T06:24:17.194475Z",
          "shell.execute_reply": "2025-06-30T06:24:37.337512Z"
        },
        "jupyter": {
          "outputs_hidden": false
        },
        "id": "1LaR9nC2QDXG"
      },
      "outputs": [],
      "execution_count": null
    },
    {
      "cell_type": "code",
      "source": [
        "train_df_processed.head(10)"
      ],
      "metadata": {
        "_uuid": "30fd2aa2-b9ae-4ee6-824c-bf1250dbc55f",
        "_cell_guid": "0c00bb4e-0fff-4a9f-b185-306079d927aa",
        "trusted": true,
        "execution": {
          "iopub.status.busy": "2025-06-30T06:24:37.33928Z",
          "iopub.execute_input": "2025-06-30T06:24:37.339591Z",
          "iopub.status.idle": "2025-06-30T06:24:37.351711Z",
          "shell.execute_reply.started": "2025-06-30T06:24:37.339561Z",
          "shell.execute_reply": "2025-06-30T06:24:37.350937Z"
        },
        "jupyter": {
          "outputs_hidden": false
        },
        "id": "FT5UBY5IQDXG"
      },
      "outputs": [],
      "execution_count": null
    },
    {
      "cell_type": "markdown",
      "source": [
        "# Replacing the scientific notations in 'flight' column with 'NaN'"
      ],
      "metadata": {
        "_uuid": "b9c09f25-d5eb-448a-a464-647176cb5e3c",
        "_cell_guid": "c61e649a-e686-4f8e-bbd6-665de5fd4646",
        "trusted": true,
        "collapsed": false,
        "jupyter": {
          "outputs_hidden": false
        },
        "id": "xTHVT07lQDXH"
      }
    },
    {
      "cell_type": "code",
      "source": [
        "for col in ['airline', 'flight', 'source', 'departure', 'stops', 'arrival', 'destination', 'class']:\n",
        "    if col in train_df_processed and train_df_processed[col].dtype == 'object':\n",
        "        train_df_processed[col] = train_df_processed[col].replace(r'^\\d+\\.?\\d*E[+-]?\\d+$', np.nan, regex = True)\n",
        "    if col in test_df_processed and test_df_processed[col].dtype == 'object':\n",
        "        test_df_processed[col] = test_df_processed[col].replace(r'^\\d+\\.?\\d*E[+-]?\\d+$', np.nan, regex = True)"
      ],
      "metadata": {
        "_uuid": "620c3644-07dd-4c61-add0-92b9d4569640",
        "_cell_guid": "9b4cfbc0-6446-4185-9371-9461f819ebac",
        "trusted": true,
        "execution": {
          "iopub.status.busy": "2025-06-30T06:24:37.352709Z",
          "iopub.execute_input": "2025-06-30T06:24:37.353152Z",
          "iopub.status.idle": "2025-06-30T06:24:37.512169Z",
          "shell.execute_reply.started": "2025-06-30T06:24:37.353131Z",
          "shell.execute_reply": "2025-06-30T06:24:37.511607Z"
        },
        "id": "pA7w-B4xQDXH"
      },
      "outputs": [],
      "execution_count": null
    },
    {
      "cell_type": "markdown",
      "source": [
        "# Handling missing/null values in categorical columns"
      ],
      "metadata": {
        "_uuid": "1d68dd27-772c-4796-8343-12e10ef92c00",
        "_cell_guid": "263736f4-048a-44f6-8e98-2e3f14e5a958",
        "trusted": true,
        "collapsed": false,
        "jupyter": {
          "outputs_hidden": false
        },
        "id": "6jbhAlNnQDXH"
      }
    },
    {
      "cell_type": "code",
      "source": [
        "train_df_processed.head(10)"
      ],
      "metadata": {
        "_uuid": "316b6510-493f-4361-bff7-a9161fbd2bd6",
        "_cell_guid": "90241d17-b9ba-4794-92f8-b65694e08b36",
        "trusted": true,
        "execution": {
          "iopub.status.busy": "2025-06-30T06:24:37.512881Z",
          "iopub.execute_input": "2025-06-30T06:24:37.5131Z",
          "iopub.status.idle": "2025-06-30T06:24:37.524923Z",
          "shell.execute_reply.started": "2025-06-30T06:24:37.513075Z",
          "shell.execute_reply": "2025-06-30T06:24:37.524328Z"
        },
        "jupyter": {
          "outputs_hidden": false
        },
        "id": "nWYJhUyIQDXH"
      },
      "outputs": [],
      "execution_count": null
    },
    {
      "cell_type": "code",
      "source": [
        "cat_cols = ['airline', 'departure', 'stops', 'flight']\n",
        "simple_imputer = SimpleImputer(strategy='most_frequent')\n",
        "train_df_processed[cat_cols] = simple_imputer.fit_transform(train_df_processed[cat_cols])\n",
        "test_df_processed[cat_cols] = simple_imputer.transform(test_df_processed[cat_cols])\n",
        "\n",
        "print(train_df_processed.isnull().sum())\n",
        "print(test_df_processed.isnull().sum())"
      ],
      "metadata": {
        "_uuid": "417a781f-cf7f-4e84-9cc9-cab51fb92052",
        "_cell_guid": "67877612-d49f-4add-abb4-d405b6777fab",
        "trusted": true,
        "execution": {
          "iopub.status.busy": "2025-06-30T06:24:37.525546Z",
          "iopub.execute_input": "2025-06-30T06:24:37.52579Z",
          "iopub.status.idle": "2025-06-30T06:24:37.589772Z",
          "shell.execute_reply.started": "2025-06-30T06:24:37.525767Z",
          "shell.execute_reply": "2025-06-30T06:24:37.589207Z"
        },
        "jupyter": {
          "outputs_hidden": false
        },
        "id": "IeDBzpEUQDXH"
      },
      "outputs": [],
      "execution_count": null
    },
    {
      "cell_type": "code",
      "source": [
        "test_df_processed.shape"
      ],
      "metadata": {
        "trusted": true,
        "execution": {
          "iopub.status.busy": "2025-06-30T06:24:37.590337Z",
          "iopub.execute_input": "2025-06-30T06:24:37.590509Z",
          "iopub.status.idle": "2025-06-30T06:24:37.595176Z",
          "shell.execute_reply.started": "2025-06-30T06:24:37.590495Z",
          "shell.execute_reply": "2025-06-30T06:24:37.594557Z"
        },
        "id": "_UQ3-IrYQDXH"
      },
      "outputs": [],
      "execution_count": null
    },
    {
      "cell_type": "markdown",
      "source": [
        "# Checking for duplicates in the train and test dataframes"
      ],
      "metadata": {
        "_uuid": "bd5fbfd6-9029-44df-987b-f0f2589070ee",
        "_cell_guid": "78f9cf28-3bb1-46d0-86ea-434dd5ef92b9",
        "trusted": true,
        "collapsed": false,
        "jupyter": {
          "outputs_hidden": false
        },
        "id": "VWSQrlg6QDXH"
      }
    },
    {
      "cell_type": "code",
      "source": [
        "train_df_processed.duplicated().sum()"
      ],
      "metadata": {
        "_uuid": "23cfc3f1-df5a-4e5d-ba58-af1bb1c4aa83",
        "_cell_guid": "ad8902a5-857f-4688-b26a-5e389e4c12c5",
        "trusted": true,
        "execution": {
          "iopub.status.busy": "2025-06-30T06:24:37.595791Z",
          "iopub.execute_input": "2025-06-30T06:24:37.596037Z",
          "iopub.status.idle": "2025-06-30T06:24:37.632142Z",
          "shell.execute_reply.started": "2025-06-30T06:24:37.596014Z",
          "shell.execute_reply": "2025-06-30T06:24:37.631571Z"
        },
        "jupyter": {
          "outputs_hidden": false
        },
        "id": "o3G0j14aQDXH"
      },
      "outputs": [],
      "execution_count": null
    },
    {
      "cell_type": "code",
      "source": [
        "test_df_processed.duplicated().sum()"
      ],
      "metadata": {
        "_uuid": "ca8f7454-ebec-4d91-b94a-c2f842f3010b",
        "_cell_guid": "6e9309d4-fb69-4386-a87c-2fb7fa64c34e",
        "trusted": true,
        "execution": {
          "iopub.status.busy": "2025-06-30T06:24:37.63279Z",
          "iopub.execute_input": "2025-06-30T06:24:37.633069Z",
          "iopub.status.idle": "2025-06-30T06:24:37.643755Z",
          "shell.execute_reply.started": "2025-06-30T06:24:37.633053Z",
          "shell.execute_reply": "2025-06-30T06:24:37.643218Z"
        },
        "jupyter": {
          "outputs_hidden": false
        },
        "id": "m-RMmhLOQDXH"
      },
      "outputs": [],
      "execution_count": null
    },
    {
      "cell_type": "markdown",
      "source": [
        "There are no duplicates in these dataframes"
      ],
      "metadata": {
        "_uuid": "ea17f356-2291-4a76-a64a-78acbc7cc202",
        "_cell_guid": "79851fa6-1f78-4229-bbc0-639fa8d4b88e",
        "trusted": true,
        "collapsed": false,
        "jupyter": {
          "outputs_hidden": false
        },
        "id": "23WIm9raQDXH"
      }
    },
    {
      "cell_type": "code",
      "source": [
        "train_df_processed.head()"
      ],
      "metadata": {
        "_uuid": "762898f9-1487-4096-b85e-5bc9ae90134c",
        "_cell_guid": "765bcd03-ba17-42ae-956c-f2b60199ad6a",
        "trusted": true,
        "execution": {
          "iopub.status.busy": "2025-06-30T06:24:37.644376Z",
          "iopub.execute_input": "2025-06-30T06:24:37.644552Z",
          "iopub.status.idle": "2025-06-30T06:24:37.654559Z",
          "shell.execute_reply.started": "2025-06-30T06:24:37.644539Z",
          "shell.execute_reply": "2025-06-30T06:24:37.654001Z"
        },
        "jupyter": {
          "outputs_hidden": false
        },
        "id": "84NGlzlvQDXI"
      },
      "outputs": [],
      "execution_count": null
    },
    {
      "cell_type": "markdown",
      "source": [
        "# Checking for Outliers"
      ],
      "metadata": {
        "id": "FNUOGIzkQDXI"
      }
    },
    {
      "cell_type": "code",
      "source": [
        "cols = ['duration', 'days_left', 'price']\n",
        "\n",
        "fig, axis = plt.subplots(1, 3, figsize = (15,5))\n",
        "for i in range(3):\n",
        "    axis[i].boxplot(train_df_processed[cols[i]])\n",
        "    axis[i].set_title(f'Boxplot for {cols[i]}')"
      ],
      "metadata": {
        "_uuid": "88efc78d-be87-4c1d-aaa5-d7a6f32a702b",
        "_cell_guid": "dd50ab04-6508-42fb-bfe8-6f1eacefe01e",
        "trusted": true,
        "execution": {
          "iopub.status.busy": "2025-06-30T06:24:37.655237Z",
          "iopub.execute_input": "2025-06-30T06:24:37.655439Z",
          "iopub.status.idle": "2025-06-30T06:24:38.048141Z",
          "shell.execute_reply.started": "2025-06-30T06:24:37.655426Z",
          "shell.execute_reply": "2025-06-30T06:24:38.04739Z"
        },
        "jupyter": {
          "outputs_hidden": false
        },
        "id": "f2jX0gsEQDXI"
      },
      "outputs": [],
      "execution_count": null
    },
    {
      "cell_type": "markdown",
      "source": [
        "Outliers are detected in the 'duration' and 'price' columns."
      ],
      "metadata": {
        "_uuid": "598985f9-94b0-4bb2-b002-981e467f595e",
        "_cell_guid": "0d67b491-2609-430b-80dd-49b9bba66064",
        "trusted": true,
        "collapsed": false,
        "jupyter": {
          "outputs_hidden": false
        },
        "id": "pIr9SDKoQDXI"
      }
    },
    {
      "cell_type": "markdown",
      "source": [
        "# Removing rows with outliers from the train dataframe"
      ],
      "metadata": {
        "_uuid": "43dac122-9a6e-4fd9-b3b0-441d01b13403",
        "_cell_guid": "56b4143e-a3b1-45b5-81d5-bfa89d71012f",
        "trusted": true,
        "collapsed": false,
        "jupyter": {
          "outputs_hidden": false
        },
        "id": "RoxvV-rmQDXO"
      }
    },
    {
      "cell_type": "code",
      "source": [
        "for i in ['duration', 'price']:\n",
        "    Q1 = train_df_processed[i].quantile(0.25)\n",
        "    Q3 = train_df_processed[i].quantile(0.75)\n",
        "    IQR = Q3 - Q1\n",
        "    lower = Q1 - 1.5*IQR\n",
        "    upper = Q3 + 1.5*IQR\n",
        "\n",
        "    train_df_processed = train_df_processed[(train_df_processed[i] >= lower) & (train_df_processed[i] <= upper)]\n",
        "\n",
        "print(train_df_processed.shape)"
      ],
      "metadata": {
        "_uuid": "1cb22975-6a74-49ed-8f53-cbb29d2b6aad",
        "_cell_guid": "8b8b2fec-b522-46f6-8d87-31b380dc0112",
        "trusted": true,
        "execution": {
          "iopub.status.busy": "2025-06-30T06:24:38.048879Z",
          "iopub.execute_input": "2025-06-30T06:24:38.049131Z",
          "iopub.status.idle": "2025-06-30T06:24:38.070187Z",
          "shell.execute_reply.started": "2025-06-30T06:24:38.049114Z",
          "shell.execute_reply": "2025-06-30T06:24:38.069689Z"
        },
        "jupyter": {
          "outputs_hidden": false
        },
        "id": "cxAQMxe4QDXO"
      },
      "outputs": [],
      "execution_count": null
    },
    {
      "cell_type": "code",
      "source": [
        "test_df_processed.shape"
      ],
      "metadata": {
        "trusted": true,
        "execution": {
          "iopub.status.busy": "2025-06-30T06:24:38.070822Z",
          "iopub.execute_input": "2025-06-30T06:24:38.071101Z",
          "iopub.status.idle": "2025-06-30T06:24:38.075627Z",
          "shell.execute_reply.started": "2025-06-30T06:24:38.071084Z",
          "shell.execute_reply": "2025-06-30T06:24:38.075072Z"
        },
        "id": "j_yQdzmRQDXP"
      },
      "outputs": [],
      "execution_count": null
    },
    {
      "cell_type": "markdown",
      "source": [
        "The Outliers were removed because they can mislead the model, reduce accuracy, and cause it to learn patterns that don’t represent normal data. Removing them helps the model perform better and generalize well to inputs.\n",
        "\n",
        "Now, there are only 39634 rows in the train dataframe (after removing the rows with outliers)."
      ],
      "metadata": {
        "_uuid": "f79a76ea-3cb8-4d4e-b0a8-147ee1a223c6",
        "_cell_guid": "8a269190-443a-41d2-a302-c1d0830b2df2",
        "trusted": true,
        "collapsed": false,
        "jupyter": {
          "outputs_hidden": false
        },
        "id": "H2hdC6X1QDXP"
      }
    },
    {
      "cell_type": "markdown",
      "source": [
        "# VISUALIZATION 1: COUNT OF FLIGHTS BY AIRLINE"
      ],
      "metadata": {
        "_uuid": "bcf64ee1-4258-48f5-aa99-61d893abedd8",
        "_cell_guid": "cc184f35-6cce-4a82-82c4-0b6af71c12f1",
        "trusted": true,
        "collapsed": false,
        "jupyter": {
          "outputs_hidden": false
        },
        "id": "0U-gJacRQDXP"
      }
    },
    {
      "cell_type": "code",
      "source": [
        "sns.set(style = \"whitegrid\")\n",
        "\n",
        "plt.figure(figsize = (8,5))\n",
        "sns.countplot(data = train_df_processed, x='airline', order = train_df_processed['airline'].value_counts().index)\n",
        "\n",
        "plt.xticks(rotation = 45)\n",
        "plt.xlabel(\"Airline\")\n",
        "plt.ylabel(\"Number of Flights\")\n",
        "plt.title(\"Count of Flights by Airline\")"
      ],
      "metadata": {
        "_uuid": "0cf2587b-ba18-458d-ab26-7e86475d93bb",
        "_cell_guid": "42221dcc-92dc-4755-b83a-9a707167b43a",
        "trusted": true,
        "execution": {
          "iopub.status.busy": "2025-06-30T06:24:38.076236Z",
          "iopub.execute_input": "2025-06-30T06:24:38.076392Z",
          "iopub.status.idle": "2025-06-30T06:24:38.319395Z",
          "shell.execute_reply.started": "2025-06-30T06:24:38.07638Z",
          "shell.execute_reply": "2025-06-30T06:24:38.318678Z"
        },
        "jupyter": {
          "outputs_hidden": false
        },
        "id": "unsAKOC9QDXQ"
      },
      "outputs": [],
      "execution_count": null
    },
    {
      "cell_type": "markdown",
      "source": [
        "**Observations:**\n",
        "* Vistara has the highest number of flights (nearly 20000). Therefore, they are the largest contributors to the dataset.\n",
        "* Air India has about 9000 flights, which is less than almost half of Vistara. But, they are in 2nd place when it comes to number of flights.\n",
        "* Indigo is in 3rd place with around 5000 flights.\n",
        "* GO_FIRST, AirAsia and SpiceJet have lower counts than Indigo with less than 3000 flights.\n",
        "\n",
        "**Inference:**\n",
        "* Vistara dominates the dataset, so there is a chance the model might become biased towards Vistara.\n",
        "* Airlines like SpiceJet, AirAsia and GO_FIRST have fewer entries maybe because they serve fewer routes or operate regionally."
      ],
      "metadata": {
        "_uuid": "5aa8509c-35f8-4e6a-a644-5b3cf4098902",
        "_cell_guid": "287746d2-5932-4f45-80e6-c93ae2bf3f3a",
        "trusted": true,
        "collapsed": false,
        "jupyter": {
          "outputs_hidden": false
        },
        "id": "qjQPXjltQDXQ"
      }
    },
    {
      "cell_type": "markdown",
      "source": [
        "# VISUALIZATION 2: PRICE VS DURATION OF FLIGHTS"
      ],
      "metadata": {
        "_uuid": "9aa090e4-f490-4fac-8c2b-59f91e2d8545",
        "_cell_guid": "347207e3-3a17-482b-9b9d-531ea712ab81",
        "trusted": true,
        "collapsed": false,
        "jupyter": {
          "outputs_hidden": false
        },
        "id": "KOW4CWevQDXQ"
      }
    },
    {
      "cell_type": "code",
      "source": [
        "sns.set(style = \"whitegrid\")\n",
        "\n",
        "plt.figure(figsize = (10,6))\n",
        "sns.scatterplot(data = train_df_processed, x = 'duration', y = 'price', hue = 'class')\n",
        "\n",
        "plt.title(\"Price vs Duration of Flights\")\n",
        "plt.xlabel(\"Duration (hours)\")\n",
        "plt.ylabel(\"Price (₹)\")\n",
        "plt.legend(title=\"Class\")"
      ],
      "metadata": {
        "_uuid": "51ab7716-8720-436e-b2b4-94821e077bc6",
        "_cell_guid": "7b2c0857-0b67-4a90-a728-77a5823204cb",
        "trusted": true,
        "execution": {
          "iopub.status.busy": "2025-06-30T06:24:38.32022Z",
          "iopub.execute_input": "2025-06-30T06:24:38.320982Z",
          "iopub.status.idle": "2025-06-30T06:24:40.340803Z",
          "shell.execute_reply.started": "2025-06-30T06:24:38.320963Z",
          "shell.execute_reply": "2025-06-30T06:24:40.340094Z"
        },
        "jupyter": {
          "outputs_hidden": false
        },
        "id": "CNNZl-jtQDXQ"
      },
      "outputs": [],
      "execution_count": null
    },
    {
      "cell_type": "markdown",
      "source": [
        "**Observation:**\n",
        "* Business class (blue) prices are much higher than the economy class (orange) prices. There is very little overlap between the two.\n",
        "* The price does not strongly increase with duration of the flight.\n",
        "* Most economy class tickets are below ₹20,000 whereas business class tickets are spread from around ₹20,000 up to almost ₹100,000\n",
        "\n",
        "**Inference:**\n",
        "* Since there is a very little overlap between blue and orange, it is clear that 'class' is a major driver of price.\n",
        "* Since both business and economy prices are fairly scattered across all durations, there is weak correlation between price and duration. So, duration is not one of the major factors that affect price.\n",
        "* Economy ticket prices are more consistent and affordable, regardless of how long the flight is. Business ticket prices, on the other hand, are highly variable."
      ],
      "metadata": {
        "_uuid": "944e2c54-ab6a-4ee6-8375-7249193c0fc0",
        "_cell_guid": "0e745411-07b9-46fa-b01d-40546e944a3a",
        "trusted": true,
        "collapsed": false,
        "jupyter": {
          "outputs_hidden": false
        },
        "id": "4deHgdrfQDXQ"
      }
    },
    {
      "cell_type": "markdown",
      "source": [
        "# VISUALIZATION 3: AVERAGE FLIGHT PRICE PER ROUTE (SOURCE -> DESTINATION)"
      ],
      "metadata": {
        "_uuid": "1fbf78d2-bcb4-4cd3-b2cc-dc97fdbc5989",
        "_cell_guid": "8e7b1e4e-302c-47f5-aca8-d10348639e3f",
        "trusted": true,
        "collapsed": false,
        "jupyter": {
          "outputs_hidden": false
        },
        "id": "qyNnnvqhQDXR"
      }
    },
    {
      "cell_type": "code",
      "source": [
        "route_prices = train_df_processed.groupby(['source', 'destination'])['price'].mean().reset_index()\n",
        "\n",
        "route_matrix = route_prices.pivot(index = 'source', columns = 'destination', values ='price')\n",
        "\n",
        "plt.figure(figsize = (10, 6))\n",
        "sns.heatmap(route_matrix, annot = True, fmt = \".0f\")\n",
        "\n",
        "plt.title(\"Average flight price per route (Source -> Destination)\")\n",
        "plt.xlabel(\"Destination\")\n",
        "plt.ylabel(\"Source\")"
      ],
      "metadata": {
        "_uuid": "2b95fb9d-f6c1-4636-8325-3f00791c3057",
        "_cell_guid": "abd2a459-fbe4-4018-aa10-a678a3567cac",
        "trusted": true,
        "execution": {
          "iopub.status.busy": "2025-06-30T06:24:40.341697Z",
          "iopub.execute_input": "2025-06-30T06:24:40.341903Z",
          "iopub.status.idle": "2025-06-30T06:24:40.727366Z",
          "shell.execute_reply.started": "2025-06-30T06:24:40.341888Z",
          "shell.execute_reply": "2025-06-30T06:24:40.726708Z"
        },
        "jupyter": {
          "outputs_hidden": false
        },
        "id": "IUeDJ1IDQDXR"
      },
      "outputs": [],
      "execution_count": null
    },
    {
      "cell_type": "markdown",
      "source": [
        "**Observation:**\n",
        "* The route Chennai -> Bangalore has the highest average flight price (₹ 25,692).\n",
        "* The route Hyderabad -> Delhi has the lowest average flight price (₹ 17,235).\n",
        "* Flights originating from Chennai generally show higher prices, especially to Bangalore, Kolkalta and Delhi.\n",
        "* Flights originating from Delhi generally show lower prices.\n",
        "\n",
        "**Inference:**\n",
        "* The high cost of Chennai -> Bangalore suggests that, even though the route may be small, it is in high demand.\n",
        "* Delhi's lower prices across routes indicate that, there might be high competitions between airlines there.\n",
        "* Flights coming to Delhi also have low prices, indicating price has a dependency on source and destination."
      ],
      "metadata": {
        "_uuid": "8396ff8b-5cab-4952-a48d-3ef8b46552e8",
        "_cell_guid": "4d8b3e43-9cf4-4963-8c8f-ee6cbd86e046",
        "trusted": true,
        "collapsed": false,
        "jupyter": {
          "outputs_hidden": false
        },
        "id": "grTnWsYkQDXR"
      }
    },
    {
      "cell_type": "markdown",
      "source": [
        "# Scaling Numerical Features and Encoding Categorical Features"
      ],
      "metadata": {
        "_uuid": "1ba5feb0-6835-42e0-afd5-b4e8c05ce827",
        "_cell_guid": "1e93d4ae-fdde-4851-9da4-b507d73c71bc",
        "trusted": true,
        "collapsed": false,
        "jupyter": {
          "outputs_hidden": false
        },
        "id": "UZrgPZ83QDXR"
      }
    },
    {
      "cell_type": "code",
      "source": [
        "from sklearn.pipeline import Pipeline\n",
        "from sklearn.compose import ColumnTransformer\n",
        "from sklearn.preprocessing import StandardScaler, OneHotEncoder\n",
        "from sklearn.impute import SimpleImputer\n",
        "import pandas as pd\n",
        "\n",
        "num_cols = ['duration', 'days_left']\n",
        "cat_cols = ['airline', 'flight', 'source', 'departure', 'stops', 'arrival', 'destination', 'class']\n",
        "\n",
        "X = train_df_processed.drop(columns=['id', 'price'])\n",
        "y = train_df_processed['price']\n",
        "X_test = test_df_processed.drop(columns=['id'])\n",
        "\n",
        "num_pipeline = Pipeline([\n",
        "    ('imputer', SimpleImputer(strategy='mean')),\n",
        "    ('scaler', StandardScaler())\n",
        "])\n",
        "\n",
        "cat_pipeline = Pipeline([\n",
        "    ('imputer', SimpleImputer(strategy='most_frequent')),\n",
        "    ('encoder', OneHotEncoder(handle_unknown='ignore', sparse=False))\n",
        "])\n",
        "\n",
        "preprocessor = ColumnTransformer(\n",
        "    transformers=[\n",
        "        ('num', num_pipeline, num_cols),\n",
        "        ('cat', cat_pipeline, cat_cols)\n",
        "    ],\n",
        "    remainder='passthrough'\n",
        ")\n",
        "\n",
        "pipeline = Pipeline(steps=[('preprocessor', preprocessor)])\n",
        "\n",
        "X_transformed = pipeline.fit_transform(X)\n",
        "X_test_transformed = pipeline.transform(X_test)\n",
        "\n",
        "feature_names = pipeline.named_steps['preprocessor'].get_feature_names_out()\n",
        "\n",
        "X_processed_df = pd.DataFrame(X_transformed, columns=feature_names)\n",
        "X_test_processed_df = pd.DataFrame(X_test_transformed, columns=feature_names)\n",
        "\n",
        "print(\"Train rows:\", X_processed_df.shape[0])\n",
        "print(\"Test rows: \", X_test_processed_df.shape[0])"
      ],
      "metadata": {
        "_uuid": "1d775504-fa99-4668-9562-b611b8dce9f4",
        "_cell_guid": "043e0531-6f9c-41bc-990e-27fb5d21f5b4",
        "trusted": true,
        "execution": {
          "iopub.status.busy": "2025-06-30T06:24:40.730453Z",
          "iopub.execute_input": "2025-06-30T06:24:40.730689Z",
          "iopub.status.idle": "2025-06-30T06:24:41.419239Z",
          "shell.execute_reply.started": "2025-06-30T06:24:40.730641Z",
          "shell.execute_reply": "2025-06-30T06:24:41.418315Z"
        },
        "jupyter": {
          "outputs_hidden": false
        },
        "id": "DbkXuu4-QDXR"
      },
      "outputs": [],
      "execution_count": null
    },
    {
      "cell_type": "code",
      "source": [
        "test_df_processed.shape"
      ],
      "metadata": {
        "trusted": true,
        "execution": {
          "iopub.status.busy": "2025-06-30T06:24:41.420204Z",
          "iopub.execute_input": "2025-06-30T06:24:41.420806Z",
          "iopub.status.idle": "2025-06-30T06:24:41.425603Z",
          "shell.execute_reply.started": "2025-06-30T06:24:41.420776Z",
          "shell.execute_reply": "2025-06-30T06:24:41.424902Z"
        },
        "id": "lFPUI362QDXR"
      },
      "outputs": [],
      "execution_count": null
    },
    {
      "cell_type": "markdown",
      "source": [
        "**We scaled the numerical features in the dataset:**\n",
        "* To ensure numerical features 'days_left' and 'duration' are on a similar scale.\n",
        "* To prevent features with large values from dominating the learning process.\n",
        "* To improve performance of models sensitive to feature magnitude.\n",
        "\n",
        "**We encoded the categorical features in the dataset:**\n",
        "* Because machine learning models require numerical inputs and cannot directly work with categorical strings.\n",
        "* To ensure consistent handling of categorical variables, especially when categories are unordered."
      ],
      "metadata": {
        "_uuid": "71c948b0-56cc-4b15-a751-34fa3c629880",
        "_cell_guid": "6b7acc56-8c99-4c10-bb0a-75d1a1f3552e",
        "trusted": true,
        "collapsed": false,
        "jupyter": {
          "outputs_hidden": false
        },
        "id": "muvltq_AQDXR"
      }
    },
    {
      "cell_type": "markdown",
      "source": [
        "# Train - Val Split"
      ],
      "metadata": {
        "_uuid": "2a400125-608b-4465-8d6c-4384467cdc82",
        "_cell_guid": "c77d945f-5f7a-44be-b7ce-b257dc6d6cc6",
        "trusted": true,
        "collapsed": false,
        "jupyter": {
          "outputs_hidden": false
        },
        "id": "bNWwncxzQDXR"
      }
    },
    {
      "cell_type": "code",
      "source": [
        "X_train, X_val, y_train, y_val = train_test_split(X_processed_df, y, test_size = 0.2, random_state = 42)\n",
        "\n",
        "print(\"X_train: \", X_train.shape)\n",
        "print(\"X_val: \", X_val.shape)\n",
        "print(\"y_train: \", y_train.shape)\n",
        "print(\"y_val: \", y_val.shape)"
      ],
      "metadata": {
        "_uuid": "8f4c475b-4d51-4b43-b307-44dda7633593",
        "_cell_guid": "a834ef77-0a58-42b4-9d03-8b1321a3b81c",
        "trusted": true,
        "execution": {
          "iopub.status.busy": "2025-06-30T06:24:41.426492Z",
          "iopub.execute_input": "2025-06-30T06:24:41.426786Z",
          "iopub.status.idle": "2025-06-30T06:24:41.524525Z",
          "shell.execute_reply.started": "2025-06-30T06:24:41.426763Z",
          "shell.execute_reply": "2025-06-30T06:24:41.523588Z"
        },
        "jupyter": {
          "outputs_hidden": false
        },
        "id": "IoriOLuHQDXS"
      },
      "outputs": [],
      "execution_count": null
    },
    {
      "cell_type": "code",
      "source": [
        "from sklearn.feature_selection import VarianceThreshold\n",
        "selector = VarianceThreshold(threshold=0.01)\n",
        "X_reduced = selector.fit_transform(X_train)\n",
        "X_val_reduced = selector.transform(X_val)\n",
        "\n",
        "X_reduced = pd.DataFrame(X_reduced)\n",
        "X_val_reduced = pd.DataFrame(X_val_reduced)\n",
        "\n",
        "print(X_reduced.shape)\n",
        "print(X_val_reduced.shape)"
      ],
      "metadata": {
        "_uuid": "a39872db-e270-424a-8d43-ea6e8499572f",
        "_cell_guid": "fd057f84-a2d7-45f7-b26c-1b6f690fde2d",
        "trusted": true,
        "execution": {
          "iopub.status.busy": "2025-06-30T06:24:41.525359Z",
          "iopub.execute_input": "2025-06-30T06:24:41.525698Z",
          "iopub.status.idle": "2025-06-30T06:24:41.890098Z",
          "shell.execute_reply.started": "2025-06-30T06:24:41.525632Z",
          "shell.execute_reply": "2025-06-30T06:24:41.889341Z"
        },
        "jupyter": {
          "outputs_hidden": false
        },
        "id": "KH578sDAQDXS"
      },
      "outputs": [],
      "execution_count": null
    },
    {
      "cell_type": "markdown",
      "source": [
        "# Model Building"
      ],
      "metadata": {
        "_uuid": "545260f1-66d3-4ebf-9b88-0c76fe16a17a",
        "_cell_guid": "b9e87c68-32ee-4679-9511-8c1b91e774e0",
        "trusted": true,
        "collapsed": false,
        "jupyter": {
          "outputs_hidden": false
        },
        "id": "SI4d5WnEQDXS"
      }
    },
    {
      "cell_type": "code",
      "source": [
        "model_result = []\n",
        "models = {\n",
        "    \"SGD Regressor\": SGDRegressor(),\n",
        "    \"Ridge Regression\": Ridge(random_state = 42),\n",
        "    \"Lasso Regression\": Lasso(random_state = 42),\n",
        "    \"ElasticNet Regession\": ElasticNet(random_state = 42),\n",
        "    \"Decision Tree Regressor\": DecisionTreeRegressor(random_state = 42),\n",
        "    \"Random Forest Regressor\": RandomForestRegressor(random_state = 42, n_jobs = -1),\n",
        "    \"K Neighbors Regressor\": KNeighborsRegressor(n_neighbors = 3),\n",
        "}\n",
        "\n",
        "for name, model in models.items():\n",
        "    model.fit(X_reduced, y_train)\n",
        "    y_pred = model.predict(X_val_reduced)\n",
        "\n",
        "    r2 = r2_score(y_val, y_pred)\n",
        "    mae = mean_absolute_error(y_val, y_pred)\n",
        "    mse = mean_squared_error(y_val, y_pred)\n",
        "    rmse = np.sqrt(mse)\n",
        "\n",
        "    model_result.append({\n",
        "        \"Model\": name,\n",
        "        \"R2\": round(r2, 3),\n",
        "        \"MAE\": round(mae, 3),\n",
        "        \"RMSE\": round(rmse, 3)\n",
        "    })"
      ],
      "metadata": {
        "_uuid": "1ca282ac-ca6f-4f17-8a4e-87d61dd64251",
        "_cell_guid": "da3b589c-1450-4208-aa0f-e3d66f3d506d",
        "trusted": true,
        "execution": {
          "iopub.status.busy": "2025-06-30T06:24:41.890902Z",
          "iopub.execute_input": "2025-06-30T06:24:41.891158Z",
          "iopub.status.idle": "2025-06-30T06:24:49.504186Z",
          "shell.execute_reply.started": "2025-06-30T06:24:41.891136Z",
          "shell.execute_reply": "2025-06-30T06:24:49.503679Z"
        },
        "jupyter": {
          "outputs_hidden": false
        },
        "id": "euzQCuH6QDXS"
      },
      "outputs": [],
      "execution_count": null
    },
    {
      "cell_type": "code",
      "source": [
        "pd.set_option(\"display.float_format\", lambda x: f\"{x:.3f}\")\n",
        "\n",
        "model_result_df = pd.DataFrame(model_result, columns = ['Model', 'R2', 'MAE', 'RMSE'])\n",
        "model_result_df = model_result_df.sort_values(by= 'R2', ascending = False).reset_index(drop = True)\n",
        "print(model_result_df)"
      ],
      "metadata": {
        "_uuid": "1e021472-62e4-4da3-8f07-63cafd95f583",
        "_cell_guid": "d3568a9b-edf4-4ca5-9231-a139b04eba9d",
        "trusted": true,
        "execution": {
          "iopub.status.busy": "2025-06-30T06:24:49.504712Z",
          "iopub.execute_input": "2025-06-30T06:24:49.504908Z",
          "iopub.status.idle": "2025-06-30T06:24:49.51726Z",
          "shell.execute_reply.started": "2025-06-30T06:24:49.504892Z",
          "shell.execute_reply": "2025-06-30T06:24:49.516595Z"
        },
        "jupyter": {
          "outputs_hidden": false
        },
        "id": "kd5AqUTvQDXS"
      },
      "outputs": [],
      "execution_count": null
    },
    {
      "cell_type": "markdown",
      "source": [
        "# Hyperparameter Tuning"
      ],
      "metadata": {
        "_uuid": "16906faf-7e65-497e-9697-16be2e78fd5f",
        "_cell_guid": "ecdb6163-6211-4143-bd63-f6a6fe5a6c41",
        "trusted": true,
        "collapsed": false,
        "jupyter": {
          "outputs_hidden": false
        },
        "id": "3kVqJS_NQDXS"
      }
    },
    {
      "cell_type": "markdown",
      "source": [
        "Random Forest"
      ],
      "metadata": {
        "_uuid": "68aeb862-479e-46e9-b0da-f667770ac15a",
        "_cell_guid": "dcef1892-8474-450b-a7a3-0cf3533dae40",
        "trusted": true,
        "collapsed": false,
        "jupyter": {
          "outputs_hidden": false
        },
        "id": "ZX3wbtl8QDXS"
      }
    },
    {
      "cell_type": "code",
      "source": [
        "rf_params = {'n_estimators': [100, 200], 'max_depth': [10, 20]}\n",
        "\n",
        "grid_rf = GridSearchCV(\n",
        "    RandomForestRegressor(n_jobs=-1),\n",
        "    rf_params,\n",
        "    cv=3,\n",
        "    n_jobs=-1,\n",
        "    verbose=0\n",
        ")\n",
        "\n",
        "grid_rf.fit(X_reduced, y_train)\n",
        "\n",
        "print(\"Best Random Forest Parameters:\", grid_rf.best_params_)\n",
        "print(\"Best Random Forest Estimator:\", grid_rf.best_estimator_)\n",
        "print(\"Best Random Forest r2 score: \", grid_rf.best_score_)"
      ],
      "metadata": {
        "_uuid": "8dd877e8-ba0f-4db9-b70f-acd82ad7c2cb",
        "_cell_guid": "6571d7e1-637f-4700-9da4-72078f24bfa5",
        "trusted": true,
        "execution": {
          "iopub.status.busy": "2025-06-30T06:24:49.518123Z",
          "iopub.execute_input": "2025-06-30T06:24:49.518416Z",
          "iopub.status.idle": "2025-06-30T06:25:42.849085Z",
          "shell.execute_reply.started": "2025-06-30T06:24:49.518393Z",
          "shell.execute_reply": "2025-06-30T06:25:42.84844Z"
        },
        "jupyter": {
          "outputs_hidden": false
        },
        "id": "n2DOwfsUQDXS"
      },
      "outputs": [],
      "execution_count": null
    },
    {
      "cell_type": "markdown",
      "source": [
        "Decision Tree"
      ],
      "metadata": {
        "_uuid": "24ba6d7c-8243-4c4c-b802-d4539a1f5c26",
        "_cell_guid": "4fb34350-7f4a-4a5c-89a7-36bde10ce5d9",
        "trusted": true,
        "collapsed": false,
        "jupyter": {
          "outputs_hidden": false
        },
        "id": "e_zdyca_QDXS"
      }
    },
    {
      "cell_type": "code",
      "source": [
        "dt_params = {\n",
        "    'max_depth': [10, 20, 30],\n",
        "    'min_samples_split': [2, 5, 10],\n",
        "}\n",
        "\n",
        "grid_dt = GridSearchCV(\n",
        "    DecisionTreeRegressor(random_state=42),\n",
        "    dt_params,\n",
        "    cv=3,\n",
        "    n_jobs=-1,\n",
        "    verbose=0\n",
        ")\n",
        "\n",
        "grid_dt.fit(X_reduced, y_train)\n",
        "\n",
        "print(\"Best Decision Tree Parameters:\", grid_dt.best_params_)\n",
        "print(\"Best Decision Tree Estimator:\", grid_dt.best_estimator_)\n",
        "print(\"Best Decision Tree r2 score:\", grid_dt.best_score_)"
      ],
      "metadata": {
        "_uuid": "9152a2ee-21af-44f5-9d25-974372786b91",
        "_cell_guid": "af6ba371-6ac5-4c75-951a-a4b48f3e023d",
        "trusted": true,
        "execution": {
          "iopub.status.busy": "2025-06-30T06:25:42.849841Z",
          "iopub.execute_input": "2025-06-30T06:25:42.850518Z",
          "iopub.status.idle": "2025-06-30T06:25:44.255284Z",
          "shell.execute_reply.started": "2025-06-30T06:25:42.85049Z",
          "shell.execute_reply": "2025-06-30T06:25:44.254604Z"
        },
        "id": "93WslR68QDXT"
      },
      "outputs": [],
      "execution_count": null
    },
    {
      "cell_type": "markdown",
      "source": [
        "K Neighbors"
      ],
      "metadata": {
        "_uuid": "a4e7632d-d04a-4fc4-a925-54edd0c91ed4",
        "_cell_guid": "092a12aa-ab56-4085-9cd6-20ece0175f35",
        "trusted": true,
        "collapsed": false,
        "jupyter": {
          "outputs_hidden": false
        },
        "id": "ZadWX9tAQDXT"
      }
    },
    {
      "cell_type": "code",
      "source": [
        "knn_params = {\n",
        "    'n_neighbors': [3, 5, 7, 9],\n",
        "    'weights': ['uniform', 'distance'],\n",
        "    'p': [1, 2]  # 1 = Manhattan, 2 = Euclidean\n",
        "}\n",
        "\n",
        "grid_knn = GridSearchCV(\n",
        "    KNeighborsRegressor(),\n",
        "    knn_params,\n",
        "    cv=3,\n",
        "    n_jobs=-1,\n",
        "    verbose=0\n",
        ")\n",
        "\n",
        "grid_knn.fit(X_reduced, y_train)\n",
        "\n",
        "print(\"Best KNN Parameters:\", grid_knn.best_params_)\n",
        "print(\"Best KNN Estimator:\", grid_knn.best_estimator_)\n",
        "print(\"Best KNN r2 score:\", grid_knn.best_score_)"
      ],
      "metadata": {
        "_uuid": "8bb30696-8f8c-4c58-be83-a6fb1b8f4aa7",
        "_cell_guid": "86acf825-6637-46a9-8583-b422eae9ae2a",
        "trusted": true,
        "jupyter": {
          "outputs_hidden": false
        },
        "execution": {
          "iopub.status.busy": "2025-06-30T06:25:44.256126Z",
          "iopub.execute_input": "2025-06-30T06:25:44.256372Z",
          "iopub.status.idle": "2025-06-30T06:27:16.186451Z",
          "shell.execute_reply.started": "2025-06-30T06:25:44.256345Z",
          "shell.execute_reply": "2025-06-30T06:27:16.185797Z"
        },
        "id": "Sxw4SYvgQDXT"
      },
      "outputs": [],
      "execution_count": null
    },
    {
      "cell_type": "markdown",
      "source": [
        "# Comparision of Models\n",
        "\n",
        "Before Hyperparameter Tuning:\n",
        "* Random Forest Regressor (r2 score: 0.972) - highest performance\n",
        "* Decision Tree Regressor (r2 score: 0.950) - next highest performance\n",
        "* K Neighbors Regressor (r2 score: 0.941) - followed closely\n",
        "* Lasso Regression (r2 score: 0.909)\n",
        "* Ridge Regression (r2 score: 0.909)\n",
        "* SGD Regressor (r2 score: 0.909)\n",
        "* ElasticNet Regession (r2 score: 0.671)\n",
        "\n",
        "After Hyperparameter Tuning:\n",
        "* Random Forest Regressor (r2 score: 0.967) - slight dip\n",
        "* Decision Tree Regressor (r2 score: 0.950) - same\n",
        "* K Neighbors Regressor (r2 score: 0.948) - slight increase\n",
        "\n",
        "Highest r2 score is of Random Forest Regressor (before tuning).\n",
        "Therefore, Random Forest Regressor is the best model."
      ],
      "metadata": {
        "_uuid": "4054891d-33b7-487c-9513-71e7db63a0dc",
        "_cell_guid": "14376b5e-36ff-4f7a-96d2-62b38d124904",
        "trusted": true,
        "collapsed": false,
        "jupyter": {
          "outputs_hidden": false
        },
        "id": "ImYI7jXpQDXT"
      }
    },
    {
      "cell_type": "code",
      "source": [
        "num_cols = ['duration', 'days_left']\n",
        "cat_cols = ['airline', 'flight', 'source', 'departure', 'stops', 'arrival', 'destination', 'class']\n",
        "\n",
        "num_pipeline = Pipeline([\n",
        "    ('imputer', SimpleImputer(strategy='mean')),\n",
        "    ('scaler', StandardScaler())\n",
        "])\n",
        "\n",
        "cat_pipeline = Pipeline([\n",
        "    ('imputer', SimpleImputer(strategy='most_frequent')),\n",
        "    ('encoder', OneHotEncoder(handle_unknown='ignore'))\n",
        "])\n",
        "\n",
        "preprocessor = ColumnTransformer([\n",
        "    ('num', num_pipeline, num_cols),\n",
        "    ('cat', cat_pipeline, cat_cols)\n",
        "])\n",
        "\n",
        "pipeline = Pipeline([\n",
        "    ('preprocessor', preprocessor),\n",
        "    ('model', RandomForestRegressor(random_state=42, n_jobs=-1))\n",
        "])\n",
        "\n",
        "X_train = X[num_cols + cat_cols]\n",
        "X_test = test_df_processed[num_cols + cat_cols]\n",
        "\n",
        "pipeline.fit(X_train, y)\n",
        "final_pred = pipeline.predict(X_test)\n",
        "\n",
        "submission_df['price'] = final_pred\n",
        "submission_df.to_csv(\"submission.csv\", index=False)\n",
        "\n",
        "print(\"Submission file generated successfully\")\n",
        "print(\"Predictions shape:\", final_pred.shape)\n",
        "print(\"Submission shape:\", submission_df.shape)"
      ],
      "metadata": {
        "_uuid": "263aa2e6-40ed-4577-8bc8-ee9fa49c92fc",
        "_cell_guid": "0fa5c7db-fcb2-40ac-bd1b-f39feeb7857a",
        "trusted": true,
        "jupyter": {
          "outputs_hidden": false
        },
        "execution": {
          "iopub.status.busy": "2025-06-30T06:27:16.187159Z",
          "iopub.execute_input": "2025-06-30T06:27:16.187411Z",
          "iopub.status.idle": "2025-06-30T06:28:47.189081Z",
          "shell.execute_reply.started": "2025-06-30T06:27:16.187395Z",
          "shell.execute_reply": "2025-06-30T06:28:47.18845Z"
        },
        "id": "Mlyo7cIVQDXT"
      },
      "outputs": [],
      "execution_count": null
    }
  ]
}